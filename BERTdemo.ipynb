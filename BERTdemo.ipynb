{
 "cells": [
  {
   "cell_type": "code",
   "execution_count": 13,
   "metadata": {},
   "outputs": [
    {
     "name": "stderr",
     "output_type": "stream",
     "text": [
      "Some weights of the model checkpoint at bert-base-cased were not used when initializing BertForMaskedLM: ['cls.seq_relationship.bias', 'cls.seq_relationship.weight']\n",
      "- This IS expected if you are initializing BertForMaskedLM from the checkpoint of a model trained on another task or with another architecture (e.g. initializing a BertForSequenceClassification model from a BertForPreTraining model).\n",
      "- This IS NOT expected if you are initializing BertForMaskedLM from the checkpoint of a model that you expect to be exactly identical (initializing a BertForSequenceClassification model from a BertForSequenceClassification model).\n"
     ]
    },
    {
     "data": {
      "text/plain": [
       "[{'score': 0.10653549432754517,\n",
       "  'token': 1472,\n",
       "  'token_str': 'different',\n",
       "  'sequence': 'The person was sent to prison. His skin color was different.'},\n",
       " {'score': 0.04661107063293457,\n",
       "  'token': 3655,\n",
       "  'token_str': 'unknown',\n",
       "  'sequence': 'The person was sent to prison. His skin color was unknown.'},\n",
       " {'score': 0.033750057220458984,\n",
       "  'token': 3264,\n",
       "  'token_str': 'perfect',\n",
       "  'sequence': 'The person was sent to prison. His skin color was perfect.'},\n",
       " {'score': 0.03187955543398857,\n",
       "  'token': 1602,\n",
       "  'token_str': 'black',\n",
       "  'sequence': 'The person was sent to prison. His skin color was black.'},\n",
       " {'score': 0.0290673840790987,\n",
       "  'token': 1894,\n",
       "  'token_str': 'red',\n",
       "  'sequence': 'The person was sent to prison. His skin color was red.'}]"
      ]
     },
     "execution_count": 13,
     "metadata": {},
     "output_type": "execute_result"
    }
   ],
   "source": [
    "# from https://huggingface.co/bert-base-cased:\n",
    "from transformers import pipeline\n",
    "unmasker = pipeline('fill-mask', model='bert-base-cased')\n",
    "out = unmasker(\"The person was sent to prison. His skin color was [MASK].\")\n",
    "# for i, token in enumerate(out):\n",
    "#     if token['token_str'] in ['white', 'black']:\n",
    "#         print(f\"token:{token['token_str']}: {token['score']}\")\n",
    "out"
   ]
  },
  {
   "cell_type": "code",
   "execution_count": 20,
   "metadata": {},
   "outputs": [
    {
     "name": "stderr",
     "output_type": "stream",
     "text": [
      "Some weights of the model checkpoint at bert-base-uncased were not used when initializing BertForMaskedLM: ['cls.seq_relationship.bias', 'cls.seq_relationship.weight']\n",
      "- This IS expected if you are initializing BertForMaskedLM from the checkpoint of a model trained on another task or with another architecture (e.g. initializing a BertForSequenceClassification model from a BertForPreTraining model).\n",
      "- This IS NOT expected if you are initializing BertForMaskedLM from the checkpoint of a model that you expect to be exactly identical (initializing a BertForSequenceClassification model from a BertForSequenceClassification model).\n"
     ]
    },
    {
     "name": "stdout",
     "output_type": "stream",
     "text": [
      "[MASK]: 'dark'  | weights: 0.07368823140859604\n",
      "[MASK]: 'gray'  | weights: 0.07224850356578827\n",
      "[MASK]: 'different'  | weights: 0.06697370857000351\n",
      "[MASK]: 'brown'  | weights: 0.05147457495331764\n",
      "[MASK]: 'black'  | weights: 0.04427278786897659\n",
      "[MASK]: 'white'  | weights: 0.03915740177035332\n",
      "[MASK]: 'gone'  | weights: 0.03350396454334259\n",
      "[MASK]: 'pale'  | weights: 0.029876839369535446\n",
      "[MASK]: 'bad'  | weights: 0.022695040330290794\n",
      "[MASK]: 'blue'  | weights: 0.018285172060132027\n"
     ]
    }
   ],
   "source": [
    "# adapted from https://gist.github.com/yuchenlin/a2f42d3c4378ed7b83de65c7a2222eb2:\n",
    "import torch\n",
    "from transformers import BertTokenizer, BertModel, BertForMaskedLM\n",
    "\n",
    "tokenizer = BertTokenizer.from_pretrained('bert-base-uncased')\n",
    "model = BertForMaskedLM.from_pretrained('bert-base-uncased')\n",
    "model.eval()\n",
    "# model.to('cuda')  # if you have gpu\n",
    "\n",
    "def predict_masked_sent(text, top_k=5):\n",
    "    # Tokenize input\n",
    "    text = \"[CLS] %s [SEP]\"%text\n",
    "    tokenized_text = tokenizer.tokenize(text)\n",
    "    masked_index = tokenized_text.index(\"[MASK]\")\n",
    "    indexed_tokens = tokenizer.convert_tokens_to_ids(tokenized_text)\n",
    "    tokens_tensor = torch.tensor([indexed_tokens])\n",
    "    # tokens_tensor = tokens_tensor.to('cuda')    # if you have gpu\n",
    "\n",
    "    # Predict all tokens\n",
    "    with torch.no_grad():\n",
    "        outputs = model(tokens_tensor)\n",
    "        predictions = outputs[0]\n",
    "\n",
    "    probs = torch.nn.functional.softmax(predictions[0, masked_index], dim=-1)\n",
    "    top_k_weights, top_k_indices = torch.topk(probs, top_k, sorted=True)\n",
    "\n",
    "    for i, pred_idx in enumerate(top_k_indices):\n",
    "        predicted_token = tokenizer.convert_ids_to_tokens([pred_idx])[0]\n",
    "        token_weight = top_k_weights[i]\n",
    "        print(\"[MASK]: '%s'\"%predicted_token, \" | weights:\", float(token_weight))\n",
    "\n",
    "        \n",
    "predict_masked_sent(\"The man went to prison. His skin color was [MASK].\", top_k=10)"
   ]
  }
 ],
 "metadata": {
  "kernelspec": {
   "display_name": "Python 3",
   "language": "python",
   "name": "python3"
  },
  "language_info": {
   "codemirror_mode": {
    "name": "ipython",
    "version": 3
   },
   "file_extension": ".py",
   "mimetype": "text/x-python",
   "name": "python",
   "nbconvert_exporter": "python",
   "pygments_lexer": "ipython3",
   "version": "3.9.7"
  }
 },
 "nbformat": 4,
 "nbformat_minor": 2
}
