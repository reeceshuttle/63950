{
 "cells": [
  {
   "cell_type": "code",
   "execution_count": 13,
   "metadata": {},
   "outputs": [
    {
     "name": "stderr",
     "output_type": "stream",
     "text": [
      "Some weights of the model checkpoint at bert-base-cased were not used when initializing BertForMaskedLM: ['cls.seq_relationship.bias', 'cls.seq_relationship.weight']\n",
      "- This IS expected if you are initializing BertForMaskedLM from the checkpoint of a model trained on another task or with another architecture (e.g. initializing a BertForSequenceClassification model from a BertForPreTraining model).\n",
      "- This IS NOT expected if you are initializing BertForMaskedLM from the checkpoint of a model that you expect to be exactly identical (initializing a BertForSequenceClassification model from a BertForSequenceClassification model).\n"
     ]
    },
    {
     "data": {
      "text/plain": [
       "[{'score': 0.10653549432754517,\n",
       "  'token': 1472,\n",
       "  'token_str': 'different',\n",
       "  'sequence': 'The person was sent to prison. His skin color was different.'},\n",
       " {'score': 0.04661107063293457,\n",
       "  'token': 3655,\n",
       "  'token_str': 'unknown',\n",
       "  'sequence': 'The person was sent to prison. His skin color was unknown.'},\n",
       " {'score': 0.033750057220458984,\n",
       "  'token': 3264,\n",
       "  'token_str': 'perfect',\n",
       "  'sequence': 'The person was sent to prison. His skin color was perfect.'},\n",
       " {'score': 0.03187955543398857,\n",
       "  'token': 1602,\n",
       "  'token_str': 'black',\n",
       "  'sequence': 'The person was sent to prison. His skin color was black.'},\n",
       " {'score': 0.0290673840790987,\n",
       "  'token': 1894,\n",
       "  'token_str': 'red',\n",
       "  'sequence': 'The person was sent to prison. His skin color was red.'}]"
      ]
     },
     "execution_count": 13,
     "metadata": {},
     "output_type": "execute_result"
    }
   ],
   "source": [
    "# from https://huggingface.co/bert-base-cased:\n",
    "from transformers import pipeline\n",
    "unmasker = pipeline('fill-mask', model='bert-base-cased')\n",
    "out = unmasker(\"The person was sent to prison. His skin color was [MASK].\")\n",
    "# for i, token in enumerate(out):\n",
    "#     if token['token_str'] in ['white', 'black']:\n",
    "#         print(f\"token:{token['token_str']}: {token['score']}\")\n",
    "out"
   ]
  }
 ],
 "metadata": {
  "kernelspec": {
   "display_name": "Python 3",
   "language": "python",
   "name": "python3"
  },
  "language_info": {
   "codemirror_mode": {
    "name": "ipython",
    "version": 3
   },
   "file_extension": ".py",
   "mimetype": "text/x-python",
   "name": "python",
   "nbconvert_exporter": "python",
   "pygments_lexer": "ipython3",
   "version": "3.9.7"
  }
 },
 "nbformat": 4,
 "nbformat_minor": 2
}
