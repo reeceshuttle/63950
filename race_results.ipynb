{
 "cells": [
  {
   "cell_type": "code",
   "execution_count": 1,
   "metadata": {},
   "outputs": [
    {
     "name": "stderr",
     "output_type": "stream",
     "text": [
      "/Users/reeceshuttleworth/Dropbox/Mac (3)/Documents/GitHub/63950/63950/lib/python3.9/site-packages/tqdm/auto.py:21: TqdmWarning: IProgress not found. Please update jupyter and ipywidgets. See https://ipywidgets.readthedocs.io/en/stable/user_install.html\n",
      "  from .autonotebook import tqdm as notebook_tqdm\n"
     ]
    },
    {
     "name": "stdout",
     "output_type": "stream",
     "text": [
      "processing reece_race_neutral.txt...\n",
      "processing synthetic_gender_loaded.txt...\n",
      "processing samir_gender_neutral.txt...\n",
      "processing synthetic_race_loaded.txt...\n",
      "processing abhaya_gender_neutral.txt...\n",
      "processing reece_gender_loaded.txt...\n",
      "processing abhaya_race_neutral.txt...\n",
      "processing abhaya_race_loaded.txt...\n",
      "processing samir_race_neutral.txt...\n",
      "processing samir_race_loaded.txt...\n",
      "processing samir_gender_loaded.txt...\n",
      "processing reece_race_loaded.txt...\n",
      "processing abhaya_gender_loaded.txt...\n",
      "processing reece_gender_neutral.txt...\n",
      "processing generic_color.txt...\n"
     ]
    }
   ],
   "source": [
    "from eval_model import test_model, test_finetuned_model\n",
    "from utils import *\n",
    "from transformers import AutoTokenizer\n",
    "tokenizer = AutoTokenizer.from_pretrained(\"bert-base-uncased\") # mosaic uses this same tokenizer\n",
    "parsed_data = parse_data(\"created_data/\", tokenizer)\n",
    "\n",
    "import warnings\n",
    "warnings.filterwarnings(\"ignore\")"
   ]
  },
  {
   "cell_type": "code",
   "execution_count": 2,
   "metadata": {},
   "outputs": [
    {
     "name": "stderr",
     "output_type": "stream",
     "text": [
      "Some weights of the model checkpoint at bert-base-uncased were not used when initializing BertForMaskedLM: ['bert.pooler.dense.bias', 'bert.pooler.dense.weight', 'cls.seq_relationship.bias', 'cls.seq_relationship.weight']\n",
      "- This IS expected if you are initializing BertForMaskedLM from the checkpoint of a model trained on another task or with another architecture (e.g. initializing a BertForSequenceClassification model from a BertForPreTraining model).\n",
      "- This IS NOT expected if you are initializing BertForMaskedLM from the checkpoint of a model that you expect to be exactly identical (initializing a BertForSequenceClassification model from a BertForSequenceClassification model).\n"
     ]
    },
    {
     "name": "stdout",
     "output_type": "stream",
     "text": [
      "testing based on abhaya_race_loaded.txt...\n",
      "testing based on samir_race_loaded.txt...\n",
      "testing based on reece_race_loaded.txt...\n",
      "\n",
      "total average difference (across 97 sentences) for bert-base-uncased on race: 0.006804006804123709. w/o norm: 0.6599886599999998\n",
      "\n"
     ]
    },
    {
     "data": {
      "text/plain": [
       "0.006804006804123709"
      ]
     },
     "execution_count": 2,
     "metadata": {},
     "output_type": "execute_result"
    }
   ],
   "source": [
    "test_model('bert-base-uncased', tokenizer, parsed_data, group='race')"
   ]
  },
  {
   "cell_type": "code",
   "execution_count": 3,
   "metadata": {},
   "outputs": [
    {
     "name": "stdout",
     "output_type": "stream",
     "text": [
      "testing based on abhaya_race_loaded.txt...\n",
      "testing based on samir_race_loaded.txt...\n",
      "testing based on reece_race_loaded.txt...\n",
      "\n",
      "total average difference (across 97 sentences) for mosaicml/mosaic-bert-base on race: 0.002645875257731959. w/o norm: 0.2566499\n",
      "\n"
     ]
    },
    {
     "data": {
      "text/plain": [
       "0.002645875257731959"
      ]
     },
     "execution_count": 3,
     "metadata": {},
     "output_type": "execute_result"
    }
   ],
   "source": [
    "test_model('mosaicml/mosaic-bert-base', tokenizer, parsed_data, group='race')"
   ]
  },
  {
   "cell_type": "code",
   "execution_count": 4,
   "metadata": {},
   "outputs": [
    {
     "name": "stdout",
     "output_type": "stream",
     "text": [
      "testing based on abhaya_race_loaded.txt...\n",
      "testing based on samir_race_loaded.txt...\n",
      "testing based on reece_race_loaded.txt...\n",
      "\n",
      "total average difference (across 97 sentences) for bert-base-uncased on race: 0.0011017684536082475. w/o norm: 0.10687154\n",
      "\n"
     ]
    },
    {
     "data": {
      "text/plain": [
       "0.0011017684536082475"
      ]
     },
     "execution_count": 4,
     "metadata": {},
     "output_type": "execute_result"
    }
   ],
   "source": [
    "test_finetuned_model('bert-base-uncased', \"finetuned_bert_race.pth\", tokenizer, parsed_data, group='race')"
   ]
  }
 ],
 "metadata": {
  "kernelspec": {
   "display_name": "63950",
   "language": "python",
   "name": "python3"
  },
  "language_info": {
   "codemirror_mode": {
    "name": "ipython",
    "version": 3
   },
   "file_extension": ".py",
   "mimetype": "text/x-python",
   "name": "python",
   "nbconvert_exporter": "python",
   "pygments_lexer": "ipython3",
   "version": "3.9.7"
  }
 },
 "nbformat": 4,
 "nbformat_minor": 2
}
